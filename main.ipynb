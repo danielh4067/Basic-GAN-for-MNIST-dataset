{
  "nbformat": 4,
  "nbformat_minor": 0,
  "metadata": {
    "colab": {
      "provenance": [],
      "collapsed_sections": []
    },
    "kernelspec": {
      "name": "python3",
      "display_name": "Python 3"
    }
  },
  "cells": [
    {
      "cell_type": "code",
      "metadata": {
        "id": "Fpkhki9ven_S"
      },
      "source": [
        "import torch.nn as nn\n",
        "import torch\n",
        "import torch.utils.data as data\n",
        "from torchvision import datasets,transforms\n",
        "import numpy as np\n",
        "import torch.optim as optim\n",
        "from torchvision.utils import save_image\n",
        "import matplotlib.pyplot as plt\n",
        "from google.colab import files\n",
        "from torch.autograd import Variable"
      ],
      "execution_count": 1,
      "outputs": []
    },
    {
      "cell_type": "markdown",
      "metadata": {
        "id": "cK13omA87zFh"
      },
      "source": [
        "Build Generator nn model:"
      ]
    },
    {
      "cell_type": "code",
      "metadata": {
        "id": "N2yCZX5A7inK"
      },
      "source": [
        "class Generator(nn.Module):\n",
        "  def __init__(self, img_shape, noise_shape):\n",
        "    super(Generator,self).__init__()\n",
        "    self.model = nn.Sequential(\n",
        "        nn.Linear(noise_shape,128),\n",
        "        nn.LeakyReLU(0.2,inplace=True),\n",
        "        \n",
        "        nn.Linear(128,256),\n",
        "        nn.BatchNorm1d(256,0.8),\n",
        "        nn.LeakyReLU(0.2,inplace=True),\n",
        "\n",
        "        nn.Linear(256,512),\n",
        "        nn.BatchNorm1d(512,0.8),\n",
        "        nn.LeakyReLU(0.2,inplace=True),\n",
        "\n",
        "        nn.Linear(512,1024),\n",
        "        nn.BatchNorm1d(1024,0.8),\n",
        "        nn.LeakyReLU(0.2,inplace=True),\n",
        "\n",
        "        nn.Linear(1024,img_shape),\n",
        "        nn.Tanh()\n",
        "       )\n",
        "  \n",
        "  def forward(self,x):\n",
        "    return self.model(x)\n"
      ],
      "execution_count": 2,
      "outputs": []
    },
    {
      "cell_type": "markdown",
      "metadata": {
        "id": "B5W78Plu788O"
      },
      "source": [
        "Build Discriminator nn model:"
      ]
    },
    {
      "cell_type": "code",
      "metadata": {
        "id": "dvupgP0j8Rhw"
      },
      "source": [
        "class Discriminator(nn.Module):\n",
        "  def __init__(self, img_shape):\n",
        "    super(Discriminator,self).__init__()\n",
        "    self.model = nn.Sequential(\n",
        "        nn.Linear(img_shape,512),\n",
        "        nn.LeakyReLU(0.2,inplace=True),\n",
        "        nn.Linear(512,256),\n",
        "        nn.LeakyReLU(0.2,inplace=True),\n",
        "        nn.Linear(256,1),\n",
        "        nn.Sigmoid(),\n",
        "        )\n",
        "    \n",
        "  def forward(self,x):\n",
        "    return self.model(x)"
      ],
      "execution_count": null,
      "outputs": []
    },
    {
      "cell_type": "markdown",
      "metadata": {
        "id": "LrBljg4X8gvI"
      },
      "source": [
        "Parameters section:"
      ]
    },
    {
      "cell_type": "code",
      "metadata": {
        "id": "Mt7SUcgj-S9T"
      },
      "source": [
        "#running parameters:\n",
        "n_epochs = 30\n",
        "batch_size=32\n",
        "sample_interval=400\n",
        "\n",
        "#learning parameters:\n",
        "lr=0.0002\n",
        "b1=0.5\n",
        "b2=0.999\n",
        "\n",
        "# models input/output sizes:\n",
        "noise_shape=100 \n",
        "img_size = 28\n",
        "channels=1\n",
        "\n",
        "\n",
        "half_batch = int(batch_size/2)\n",
        "flate_img_shape = img_size*img_size\n"
      ],
      "execution_count": null,
      "outputs": []
    },
    {
      "cell_type": "markdown",
      "metadata": {
        "id": "UnHTmC0X8xOY"
      },
      "source": [
        "Initial Part:\n",
        "\n",
        "- Initaliszed Generator and Discriminator models\n",
        "\n",
        "- Initial same Loss Criterion for Generator and Discriminator\n",
        "\n",
        "- Initial train Dataset as DataLoader with batch size = 32"
      ]
    },
    {
      "cell_type": "code",
      "metadata": {
        "id": "6eMHqMj4fsmx"
      },
      "source": [
        "# Loss function\n",
        "adversarial_loss = nn.BCELoss(reduction='sum')\n",
        "\n",
        "# initial models\n",
        "generator = Generator(flate_img_shape,noise_shape)\n",
        "discriminator = Discriminator(flate_img_shape)\n",
        "\n",
        "dataloader = torch.utils.data.DataLoader(\n",
        "    datasets.MNIST(\n",
        "        \"../../data/mnist\",\n",
        "        train=True,\n",
        "        download=True,\n",
        "        transform=transforms.Compose(\n",
        "            [ transforms.ToTensor(),\n",
        "             transforms.Normalize([0.5], [0.5])]),), batch_size= batch_size,\n",
        "             shuffle=True)"
      ],
      "execution_count": null,
      "outputs": []
    },
    {
      "cell_type": "markdown",
      "metadata": {
        "id": "Hypb8sHc90a6"
      },
      "source": [
        "Declareing Optimazer for Genrator and Discriminator:"
      ]
    },
    {
      "cell_type": "code",
      "metadata": {
        "id": "Rz0wcmlF-NTN"
      },
      "source": [
        "# Optimizers\n",
        "optimizer_G = torch.optim.Adam(generator.parameters(), lr=lr, betas=(b1,b2))\n",
        "optimizer_D = torch.optim.Adam(discriminator.parameters(), lr=lr, betas=(b1, b2))\n",
        "\n",
        "cuda = True if torch.cuda.is_available() else False\n",
        "Tensor = torch.cuda.FloatTensor if cuda else torch.FloatTensor\n",
        "\n",
        "if cuda:\n",
        "    generator.cuda()\n",
        "    discriminator.cuda()\n",
        "    adversarial_loss.cuda()"
      ],
      "execution_count": null,
      "outputs": []
    },
    {
      "cell_type": "markdown",
      "metadata": {
        "id": "zqiGIMX3-Xda"
      },
      "source": [
        "# Traning section\n",
        "1. train Generator model with the input and targets:\n",
        "\n",
        "  - randomize 'batch_size' examples with size of 'noise_shape' as input for Generator model\n",
        "\n",
        "  - Creat target vector with value '1' for labaling the output target for 'real' exmaples\n",
        "\n",
        "2. Train Discriminator model with the next input and targets:\n",
        "\n",
        "- randomize half of 'batch_size' examples with size of 'noise_shape' as input for Generator model. taking the output of the generator as a 'fake' example. Then labeling this examples with target of fake examples ('0')\n",
        "\n",
        "- taking half 'batch_size' examples from training set, labaling this examples with target of 'real' examples ('1')\n"
      ]
    },
    {
      "cell_type": "code",
      "metadata": {
        "id": "933YOQ4agAzb",
        "colab": {
          "base_uri": "https://localhost:8080/",
          "height": 1000
        },
        "outputId": "88eae464-1cd9-4c7c-e653-7cb2f464d683"
      },
      "source": [
        "for epoch in range(n_epochs):\n",
        "  for i,(imgs,_) in enumerate(dataloader):\n",
        "       \n",
        "        \n",
        "        # -----------------\n",
        "        #  Train Generator\n",
        "        # -----------------\n",
        "\n",
        "        optimizer_G.zero_grad()\n",
        "         # Sample noise as generator input\n",
        "        z = Variable(Tensor(np.random.normal(0, 1, (batch_size, noise_shape))))\n",
        "        # Adversarial ground truths\n",
        "        valid = Variable(Tensor(batch_size, 1).fill_(1.0), requires_grad=False)\n",
        "        \n",
        "         # Generate a batch of images\n",
        "        gen_imgs = generator(z)\n",
        "\n",
        "        # Loss measures generator's ability to fool the discriminator\n",
        "        g_loss = adversarial_loss(discriminator(gen_imgs), valid)\n",
        "\n",
        "        g_loss.backward()\n",
        "        optimizer_G.step()\n",
        "\n",
        "        # ---------------------\n",
        "        #  Train Discriminator\n",
        "        # ---------------------\n",
        "\n",
        "\n",
        "        optimizer_D.zero_grad()\n",
        "\n",
        "        # Configure input\n",
        "        real_imgs = Variable(imgs[0:half_batch,:].type(Tensor))\n",
        "        valid = Variable(Tensor(half_batch, 1).fill_(1.0), requires_grad=False)\n",
        "\n",
        "        # Generate a batch of images\n",
        "        z = Variable(Tensor(np.random.normal(0, 1, (half_batch, noise_shape))))\n",
        "        gen_imgs = generator(z)\n",
        "        fake = Variable(Tensor(half_batch, 1).fill_(0.0), requires_grad=False)\n",
        "        \n",
        "\n",
        "         # Measure discriminator's ability to classify real from generated samples\n",
        "        real_loss = adversarial_loss(discriminator(real_imgs.data.reshape((half_batch,1,-1))), valid)\n",
        "        fake_loss = adversarial_loss(discriminator(gen_imgs.detach()), fake)\n",
        "        d_loss = (real_loss + fake_loss) / 2\n",
        "\n",
        "        d_loss.backward()\n",
        "        optimizer_D.step()\n",
        "\n",
        "        \n",
        "        batches_done = epoch * len(dataloader) + i\n",
        "        if batches_done % sample_interval == 0:\n",
        "          print(\"[Epoch %d/%d] [Batch %d/%d] [D loss: %f] [G loss: %f]\"\n",
        "            % (epoch, n_epochs, i, len(dataloader), d_loss.item(), g_loss.item()))\n",
        "\n",
        "          #sample_images(epoch,noise_shape,generator)\n",
        "          example_imgs = gen_imgs.data[:16]\n",
        "          fig, axs = plt.subplots(4, 4)\n",
        "          cnt = 0\n",
        "          for i in range(4):\n",
        "              for j in range(4):\n",
        "                axs[i,j].imshow(example_imgs[cnt, :].detach().numpy().reshape((28,28)), cmap='gray')\n",
        "                axs[i,j].axis('off')\n",
        "                cnt += 1\n",
        "          if (batches_done == 0):\n",
        "            start_fig = fig;\n",
        "          fig.savefig(\"mnist_%d.png\" % epoch)\n",
        "          files.download(\"mnist_%d.png\" % epoch)\n",
        "          plt.close()"
      ],
      "execution_count": null,
      "outputs": [
        {
          "output_type": "stream",
          "text": [
            "/usr/local/lib/python3.6/dist-packages/torch/nn/modules/loss.py:498: UserWarning: Using a target size (torch.Size([16, 1])) that is different to the input size (torch.Size([16, 1, 1])) is deprecated. Please ensure they have the same size.\n",
            "  return F.binary_cross_entropy(input, target, weight=self.weight, reduction=self.reduction)\n"
          ],
          "name": "stderr"
        },
        {
          "output_type": "stream",
          "text": [
            "[Epoch 0/30] [Batch 0/1875] [D loss: 6.731756] [G loss: 38.940037]\n",
            "[Epoch 0/30] [Batch 400/1875] [D loss: 7.517212] [G loss: 31.884203]\n",
            "[Epoch 0/30] [Batch 800/1875] [D loss: 11.478024] [G loss: 26.479795]\n",
            "[Epoch 0/30] [Batch 1200/1875] [D loss: 8.418945] [G loss: 33.025288]\n",
            "[Epoch 0/30] [Batch 1600/1875] [D loss: 7.814410] [G loss: 41.154293]\n",
            "[Epoch 1/30] [Batch 125/1875] [D loss: 10.271914] [G loss: 43.076664]\n",
            "[Epoch 1/30] [Batch 525/1875] [D loss: 8.187333] [G loss: 41.714622]\n",
            "[Epoch 1/30] [Batch 925/1875] [D loss: 8.385545] [G loss: 42.933167]\n",
            "[Epoch 1/30] [Batch 1325/1875] [D loss: 7.872831] [G loss: 33.786106]\n",
            "[Epoch 1/30] [Batch 1725/1875] [D loss: 8.077294] [G loss: 28.808468]\n",
            "[Epoch 2/30] [Batch 250/1875] [D loss: 9.275431] [G loss: 36.224590]\n",
            "[Epoch 2/30] [Batch 650/1875] [D loss: 8.804481] [G loss: 43.451836]\n",
            "[Epoch 2/30] [Batch 1050/1875] [D loss: 8.302748] [G loss: 33.824718]\n",
            "[Epoch 2/30] [Batch 1450/1875] [D loss: 8.186688] [G loss: 41.673664]\n",
            "[Epoch 2/30] [Batch 1850/1875] [D loss: 11.294310] [G loss: 60.063263]\n",
            "[Epoch 3/30] [Batch 375/1875] [D loss: 9.875099] [G loss: 31.925545]\n",
            "[Epoch 3/30] [Batch 775/1875] [D loss: 6.748576] [G loss: 40.197590]\n",
            "[Epoch 3/30] [Batch 1175/1875] [D loss: 8.907244] [G loss: 42.761463]\n",
            "[Epoch 3/30] [Batch 1575/1875] [D loss: 7.862679] [G loss: 35.528053]\n",
            "[Epoch 4/30] [Batch 100/1875] [D loss: 8.707249] [G loss: 46.133816]\n",
            "[Epoch 4/30] [Batch 500/1875] [D loss: 7.920055] [G loss: 39.181034]\n",
            "[Epoch 4/30] [Batch 900/1875] [D loss: 9.363272] [G loss: 38.881157]\n",
            "[Epoch 4/30] [Batch 1300/1875] [D loss: 9.368994] [G loss: 35.598099]\n",
            "[Epoch 4/30] [Batch 1700/1875] [D loss: 7.752573] [G loss: 28.122015]\n",
            "[Epoch 5/30] [Batch 225/1875] [D loss: 10.111851] [G loss: 30.939293]\n",
            "[Epoch 5/30] [Batch 625/1875] [D loss: 7.446251] [G loss: 40.907803]\n",
            "[Epoch 5/30] [Batch 1025/1875] [D loss: 9.819791] [G loss: 48.690914]\n",
            "[Epoch 5/30] [Batch 1425/1875] [D loss: 8.490986] [G loss: 34.458996]\n",
            "[Epoch 5/30] [Batch 1825/1875] [D loss: 10.371576] [G loss: 49.201401]\n",
            "[Epoch 6/30] [Batch 350/1875] [D loss: 6.731540] [G loss: 36.746849]\n",
            "[Epoch 6/30] [Batch 750/1875] [D loss: 6.472958] [G loss: 43.866680]\n",
            "[Epoch 6/30] [Batch 1150/1875] [D loss: 10.263670] [G loss: 35.340000]\n",
            "[Epoch 6/30] [Batch 1550/1875] [D loss: 7.326776] [G loss: 29.095860]\n",
            "[Epoch 7/30] [Batch 75/1875] [D loss: 7.246544] [G loss: 45.618420]\n",
            "[Epoch 7/30] [Batch 475/1875] [D loss: 7.948261] [G loss: 38.550255]\n",
            "[Epoch 7/30] [Batch 875/1875] [D loss: 9.020400] [G loss: 46.518356]\n",
            "[Epoch 7/30] [Batch 1275/1875] [D loss: 6.050927] [G loss: 25.811756]\n",
            "[Epoch 7/30] [Batch 1675/1875] [D loss: 9.306973] [G loss: 39.854004]\n",
            "[Epoch 8/30] [Batch 200/1875] [D loss: 9.238769] [G loss: 38.396194]\n",
            "[Epoch 8/30] [Batch 600/1875] [D loss: 8.319487] [G loss: 37.900574]\n",
            "[Epoch 8/30] [Batch 1000/1875] [D loss: 6.762532] [G loss: 48.013992]\n",
            "[Epoch 8/30] [Batch 1400/1875] [D loss: 8.005194] [G loss: 45.115829]\n",
            "[Epoch 8/30] [Batch 1800/1875] [D loss: 9.844597] [G loss: 42.971882]\n",
            "[Epoch 9/30] [Batch 325/1875] [D loss: 9.092062] [G loss: 32.489811]\n",
            "[Epoch 9/30] [Batch 725/1875] [D loss: 8.120105] [G loss: 53.870319]\n",
            "[Epoch 9/30] [Batch 1125/1875] [D loss: 7.363835] [G loss: 55.495949]\n",
            "[Epoch 9/30] [Batch 1525/1875] [D loss: 9.384164] [G loss: 38.576530]\n",
            "[Epoch 10/30] [Batch 50/1875] [D loss: 8.413603] [G loss: 49.686764]\n",
            "[Epoch 10/30] [Batch 450/1875] [D loss: 8.693792] [G loss: 33.641129]\n",
            "[Epoch 10/30] [Batch 850/1875] [D loss: 7.094563] [G loss: 37.780186]\n",
            "[Epoch 10/30] [Batch 1250/1875] [D loss: 9.312673] [G loss: 34.082306]\n",
            "[Epoch 10/30] [Batch 1650/1875] [D loss: 5.732752] [G loss: 28.584553]\n",
            "[Epoch 11/30] [Batch 175/1875] [D loss: 7.331191] [G loss: 27.943436]\n",
            "[Epoch 11/30] [Batch 575/1875] [D loss: 7.416174] [G loss: 51.663853]\n",
            "[Epoch 11/30] [Batch 975/1875] [D loss: 8.037750] [G loss: 25.851646]\n",
            "[Epoch 11/30] [Batch 1375/1875] [D loss: 7.191552] [G loss: 29.951183]\n",
            "[Epoch 11/30] [Batch 1775/1875] [D loss: 8.326820] [G loss: 37.689465]\n",
            "[Epoch 12/30] [Batch 300/1875] [D loss: 9.824783] [G loss: 35.430790]\n",
            "[Epoch 12/30] [Batch 700/1875] [D loss: 7.320462] [G loss: 42.977974]\n",
            "[Epoch 12/30] [Batch 1100/1875] [D loss: 7.719491] [G loss: 37.763260]\n",
            "[Epoch 12/30] [Batch 1500/1875] [D loss: 10.357830] [G loss: 37.597202]\n",
            "[Epoch 13/30] [Batch 25/1875] [D loss: 10.123793] [G loss: 52.582352]\n",
            "[Epoch 13/30] [Batch 425/1875] [D loss: 9.279741] [G loss: 40.051193]\n",
            "[Epoch 13/30] [Batch 825/1875] [D loss: 6.439942] [G loss: 43.504448]\n",
            "[Epoch 13/30] [Batch 1225/1875] [D loss: 10.695145] [G loss: 42.546642]\n",
            "[Epoch 13/30] [Batch 1625/1875] [D loss: 8.315314] [G loss: 51.119164]\n",
            "[Epoch 14/30] [Batch 150/1875] [D loss: 6.014432] [G loss: 43.763596]\n",
            "[Epoch 14/30] [Batch 550/1875] [D loss: 9.585960] [G loss: 41.927727]\n",
            "[Epoch 14/30] [Batch 950/1875] [D loss: 7.016926] [G loss: 29.598490]\n",
            "[Epoch 14/30] [Batch 1350/1875] [D loss: 9.134789] [G loss: 25.791922]\n",
            "[Epoch 14/30] [Batch 1750/1875] [D loss: 11.173058] [G loss: 34.841106]\n",
            "[Epoch 15/30] [Batch 275/1875] [D loss: 8.216153] [G loss: 39.211731]\n",
            "[Epoch 15/30] [Batch 675/1875] [D loss: 7.266435] [G loss: 51.733784]\n",
            "[Epoch 15/30] [Batch 1075/1875] [D loss: 5.995651] [G loss: 37.027752]\n",
            "[Epoch 15/30] [Batch 1475/1875] [D loss: 7.822206] [G loss: 38.529163]\n",
            "[Epoch 16/30] [Batch 0/1875] [D loss: 7.759004] [G loss: 36.580700]\n",
            "[Epoch 16/30] [Batch 400/1875] [D loss: 8.727077] [G loss: 28.277645]\n",
            "[Epoch 16/30] [Batch 800/1875] [D loss: 8.183906] [G loss: 40.615116]\n",
            "[Epoch 16/30] [Batch 1200/1875] [D loss: 7.957179] [G loss: 27.411894]\n",
            "[Epoch 16/30] [Batch 1600/1875] [D loss: 6.541218] [G loss: 38.494308]\n",
            "[Epoch 17/30] [Batch 125/1875] [D loss: 12.401991] [G loss: 37.137924]\n",
            "[Epoch 17/30] [Batch 525/1875] [D loss: 8.082439] [G loss: 44.535664]\n",
            "[Epoch 17/30] [Batch 925/1875] [D loss: 7.318789] [G loss: 35.287472]\n",
            "[Epoch 17/30] [Batch 1325/1875] [D loss: 6.811000] [G loss: 34.571312]\n",
            "[Epoch 17/30] [Batch 1725/1875] [D loss: 6.269523] [G loss: 37.487171]\n",
            "[Epoch 18/30] [Batch 250/1875] [D loss: 9.431418] [G loss: 40.158649]\n",
            "[Epoch 18/30] [Batch 650/1875] [D loss: 7.419441] [G loss: 45.988663]\n",
            "[Epoch 18/30] [Batch 1050/1875] [D loss: 7.660241] [G loss: 40.240276]\n",
            "[Epoch 18/30] [Batch 1450/1875] [D loss: 8.116229] [G loss: 38.162094]\n",
            "[Epoch 18/30] [Batch 1850/1875] [D loss: 5.183760] [G loss: 42.054623]\n",
            "[Epoch 19/30] [Batch 375/1875] [D loss: 8.249701] [G loss: 31.334244]\n",
            "[Epoch 19/30] [Batch 775/1875] [D loss: 10.116734] [G loss: 46.202473]\n",
            "[Epoch 19/30] [Batch 1175/1875] [D loss: 8.736359] [G loss: 42.849720]\n",
            "[Epoch 19/30] [Batch 1575/1875] [D loss: 6.442967] [G loss: 46.246410]\n",
            "[Epoch 20/30] [Batch 100/1875] [D loss: 8.761477] [G loss: 35.556957]\n",
            "[Epoch 20/30] [Batch 500/1875] [D loss: 9.427107] [G loss: 38.123352]\n",
            "[Epoch 20/30] [Batch 900/1875] [D loss: 8.196657] [G loss: 39.323009]\n",
            "[Epoch 20/30] [Batch 1300/1875] [D loss: 8.244524] [G loss: 42.883274]\n",
            "[Epoch 20/30] [Batch 1700/1875] [D loss: 8.300585] [G loss: 42.763184]\n",
            "[Epoch 21/30] [Batch 225/1875] [D loss: 7.254896] [G loss: 39.459557]\n",
            "[Epoch 21/30] [Batch 625/1875] [D loss: 7.231214] [G loss: 31.496445]\n",
            "[Epoch 21/30] [Batch 1025/1875] [D loss: 6.188673] [G loss: 37.015930]\n",
            "[Epoch 21/30] [Batch 1425/1875] [D loss: 6.691547] [G loss: 38.063976]\n",
            "[Epoch 21/30] [Batch 1825/1875] [D loss: 7.646695] [G loss: 49.386005]\n",
            "[Epoch 22/30] [Batch 350/1875] [D loss: 10.050171] [G loss: 40.668846]\n",
            "[Epoch 22/30] [Batch 750/1875] [D loss: 7.437130] [G loss: 50.313866]\n",
            "[Epoch 22/30] [Batch 1150/1875] [D loss: 9.633417] [G loss: 52.897991]\n",
            "[Epoch 22/30] [Batch 1550/1875] [D loss: 9.950797] [G loss: 28.920328]\n",
            "[Epoch 23/30] [Batch 75/1875] [D loss: 7.721759] [G loss: 30.406456]\n",
            "[Epoch 23/30] [Batch 475/1875] [D loss: 9.165239] [G loss: 36.262188]\n",
            "[Epoch 23/30] [Batch 875/1875] [D loss: 7.161082] [G loss: 31.773029]\n",
            "[Epoch 23/30] [Batch 1275/1875] [D loss: 8.690483] [G loss: 39.983631]\n",
            "[Epoch 23/30] [Batch 1675/1875] [D loss: 8.989261] [G loss: 33.753956]\n",
            "[Epoch 24/30] [Batch 200/1875] [D loss: 7.149403] [G loss: 38.570847]\n",
            "[Epoch 24/30] [Batch 600/1875] [D loss: 8.202520] [G loss: 35.556286]\n",
            "[Epoch 24/30] [Batch 1000/1875] [D loss: 5.881340] [G loss: 38.700550]\n",
            "[Epoch 24/30] [Batch 1400/1875] [D loss: 8.575189] [G loss: 33.548786]\n",
            "[Epoch 24/30] [Batch 1800/1875] [D loss: 8.053015] [G loss: 27.253656]\n",
            "[Epoch 25/30] [Batch 325/1875] [D loss: 9.124884] [G loss: 32.565193]\n",
            "[Epoch 25/30] [Batch 725/1875] [D loss: 9.124469] [G loss: 37.511211]\n",
            "[Epoch 25/30] [Batch 1125/1875] [D loss: 7.789199] [G loss: 42.919273]\n",
            "[Epoch 25/30] [Batch 1525/1875] [D loss: 5.328546] [G loss: 36.300003]\n",
            "[Epoch 26/30] [Batch 50/1875] [D loss: 7.896147] [G loss: 22.965214]\n",
            "[Epoch 26/30] [Batch 450/1875] [D loss: 7.038792] [G loss: 35.114952]\n",
            "[Epoch 26/30] [Batch 850/1875] [D loss: 8.793242] [G loss: 32.670067]\n",
            "[Epoch 26/30] [Batch 1250/1875] [D loss: 7.955931] [G loss: 46.720787]\n",
            "[Epoch 26/30] [Batch 1650/1875] [D loss: 6.270781] [G loss: 42.127117]\n",
            "[Epoch 27/30] [Batch 175/1875] [D loss: 10.158126] [G loss: 52.854965]\n",
            "[Epoch 27/30] [Batch 575/1875] [D loss: 8.367606] [G loss: 42.809746]\n",
            "[Epoch 27/30] [Batch 975/1875] [D loss: 7.758054] [G loss: 37.633930]\n",
            "[Epoch 27/30] [Batch 1375/1875] [D loss: 9.983669] [G loss: 44.640457]\n",
            "[Epoch 27/30] [Batch 1775/1875] [D loss: 10.610270] [G loss: 35.956825]\n",
            "[Epoch 28/30] [Batch 300/1875] [D loss: 10.754945] [G loss: 42.151215]\n",
            "[Epoch 28/30] [Batch 700/1875] [D loss: 8.702080] [G loss: 40.902851]\n",
            "[Epoch 28/30] [Batch 1100/1875] [D loss: 8.998940] [G loss: 45.789650]\n",
            "[Epoch 28/30] [Batch 1500/1875] [D loss: 6.944779] [G loss: 38.965591]\n",
            "[Epoch 29/30] [Batch 25/1875] [D loss: 9.973079] [G loss: 37.671444]\n",
            "[Epoch 29/30] [Batch 425/1875] [D loss: 8.776067] [G loss: 39.560383]\n",
            "[Epoch 29/30] [Batch 825/1875] [D loss: 8.724421] [G loss: 35.407463]\n",
            "[Epoch 29/30] [Batch 1225/1875] [D loss: 7.207581] [G loss: 37.491650]\n",
            "[Epoch 29/30] [Batch 1625/1875] [D loss: 8.696283] [G loss: 33.646252]\n"
          ],
          "name": "stdout"
        }
      ]
    },
    {
      "cell_type": "markdown",
      "metadata": {
        "id": "xMBs100tEHbN"
      },
      "source": [
        "The Examples the Generator creat at before the training: "
      ]
    },
    {
      "cell_type": "code",
      "metadata": {
        "id": "3dVGvGysCMs1",
        "colab": {
          "base_uri": "https://localhost:8080/",
          "height": 248
        },
        "outputId": "b74c2b6c-ed1b-4886-dd10-693abdce6dfa"
      },
      "source": [
        "start_fig"
      ],
      "execution_count": null,
      "outputs": [
        {
          "output_type": "execute_result",
          "data": {
            "image/png": "[encoded data removed]",
            "text/plain": [
              "<Figure size 432x288 with 16 Axes>"
            ]
          },
          "metadata": {
            "tags": []
          },
          "execution_count": 9
        }
      ]
    },
    {
      "cell_type": "markdown",
      "metadata": {
        "id": "sXhQespUEh9E"
      },
      "source": [
        "The examples the Generator create after 27 Epochs:"
      ]
    },
    {
      "cell_type": "code",
      "metadata": {
        "id": "A1Z5-TjJDg-y",
        "colab": {
          "base_uri": "https://localhost:8080/",
          "height": 248
        },
        "outputId": "5c0cf70e-3833-449c-b223-71f547959e2f"
      },
      "source": [
        "fig"
      ],
      "execution_count": null,
      "outputs": [
        {
          "output_type": "execute_result",
          "data": {
            "image/png": "[encoded data removed]",
            "text/plain": [
              "<Figure size 432x288 with 16 Axes>"
            ]
          },
          "metadata": {
            "tags": []
          },
          "execution_count": 10
        }
      ]
    },
    {
      "cell_type": "markdown",
      "metadata": {
        "id": "UAXXdDYYjTH7"
      },
      "source": [
        "The examples that Generator model create after 30 Epochs:\n"
      ]
    },
    {
      "cell_type": "code",
      "metadata": {
        "id": "yAmBq2ODD7vY",
        "colab": {
          "base_uri": "https://localhost:8080/",
          "height": 248
        },
        "outputId": "c8485fad-93ef-4959-99b8-0bad9948cb8b"
      },
      "source": [
        "fig"
      ],
      "execution_count": null,
      "outputs": [
        {
          "output_type": "execute_result",
          "data": {
            "image/png": "[encoded data removed]",
            "text/plain": [
              "<Figure size 432x288 with 16 Axes>"
            ]
          },
          "metadata": {
            "tags": []
          },
          "execution_count": 13
        }
      ]
    }
  ]
}